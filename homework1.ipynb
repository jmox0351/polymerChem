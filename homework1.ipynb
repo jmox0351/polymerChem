{
 "cells": [
  {
   "cell_type": "markdown",
   "metadata": {},
   "source": [
    "### Jacob Moxley"
   ]
  },
  {
   "cell_type": "markdown",
   "metadata": {},
   "source": [
    "#### Question 1\n",
    "The contour length is the maximum length a polymer chain can take on. It is defined as $n \\cdot l$. We can find the number of polymer units, n, by dividing the total molar mass by the molar mass of one unit and then get l by multiplying the bond length by the $cos(\\frac{\\theta}{2})$"
   ]
  },
  {
   "cell_type": "code",
   "execution_count": 5,
   "metadata": {},
   "outputs": [],
   "source": [
    "import numpy as np\n",
    "import math"
   ]
  },
  {
   "cell_type": "code",
   "execution_count": 11,
   "metadata": {},
   "outputs": [
    {
     "name": "stdout",
     "output_type": "stream",
     "text": [
      "Contour length for polystyrene is: 3677.465 angstroms 367.747 nanometers\n",
      "Contour length for polypropylene is: 9101.860 angstroms 910.186 nanometers\n"
     ]
    }
   ],
   "source": [
    "nSt = 300000/(12.011*8 + 1.008*8) #polystyrene has formula (C_8H_8)_n\n",
    "l = math.cos(math.radians(68/2))*1.54\n",
    "print('Contour length for polystyrene is:', '{:.3f}'.format(nSt*l), 'angstroms', '{:.3f}'.format(nSt*l/10), 'nanometers')\n",
    "nPro = 300000/(12.011*3 + 1.008*6) #polypropylene has formula(C_3H_6)_n\n",
    "print('Contour length for polypropylene is:', '{:.3f}'.format(nPro*l), 'angstroms', '{:.3f}'.format(nPro*l/10), 'nanometers')"
   ]
  },
  {
   "cell_type": "markdown",
   "metadata": {},
   "source": [
    "We know that $C_{\\infty}$ is defined as:\n",
    "$$C_{\\infty} = \\lim_{n \\to \\infty} \\frac{<R^2>}{nl^2}$$\n",
    "and that if we use the freely joined chain model that:\n",
    "$$R = \\sqrt{n} \\cdot l$$\n",
    "Thus we can find $<R^2>^{1/2}$ from the n and l computed in part A. Once we have that we know that for an ideal linear chain that:\n",
    "$$\\frac{1}{6} \\cdot <R^2>^{1/2} = <R_g^2>^{1/2}$$"
   ]
  },
  {
   "cell_type": "code",
   "execution_count": 46,
   "metadata": {},
   "outputs": [
    {
     "name": "stdout",
     "output_type": "stream",
     "text": [
      "Ensemble average length for polystyrene is: 650.947 Angstroms\n",
      "Radius of gyration: 108.491 Angstroms\n",
      "Ensemble average length for polypropylene is: 636.011 Angstroms\n",
      "Radius of gyration: 212.004 Angstroms\n"
     ]
    }
   ],
   "source": [
    "avgLenSt = math.sqrt(nSt)*l*9.5\n",
    "gyrSt = 1/6*avgLenSt\n",
    "avgLenPro = math.sqrt(nPro)*l*5.9\n",
    "gyrPro = 1/3*avgLenPro\n",
    "print('Ensemble average length for polystyrene is:', '{:.3f}'.format(avgLenSt), 'Angstroms\\nRadius of gyration:',\\\n",
    "      '{:.3f}'.format(gyrSt), 'Angstroms')\n",
    "print('Ensemble average length for polypropylene is:', '{:.3f}'.format(avgLenPro), 'Angstroms\\nRadius of gyration:',\\\n",
    "      '{:.3f}'.format(gyrPro), 'Angstroms')"
   ]
  },
  {
   "cell_type": "markdown",
   "metadata": {},
   "source": [
    "The Kuhn length is defined as:\n",
    "$$b = \\frac{C_{\\infty}nl^2}{R_{max}}$$"
   ]
  },
  {
   "cell_type": "code",
   "execution_count": 23,
   "metadata": {},
   "outputs": [
    {
     "name": "stdout",
     "output_type": "stream",
     "text": [
      "Kuhn length for polystyrene is: 17.647 Angstroms\n",
      "Kuhn length for polypropylene is: 10.960 Angstroms\n"
     ]
    }
   ],
   "source": [
    "bSt = 9.5*1.54**2/l\n",
    "bPro = 5.9*1.54**2/l\n",
    "print('Kuhn length for polystyrene is:', '{:.3f}'.format(bSt), 'Angstroms')\n",
    "print('Kuhn length for polypropylene is:', '{:.3f}'.format(bPro) , 'Angstroms')"
   ]
  },
  {
   "cell_type": "code",
   "execution_count": 28,
   "metadata": {},
   "outputs": [
    {
     "name": "stdout",
     "output_type": "stream",
     "text": [
      "The number of carbon bonds per Kuhn length in polystyrene is: 14\n",
      "The number of carbon bonds per Kuhn length in polypropylene is: 9\n"
     ]
    }
   ],
   "source": [
    "cSt = bSt**2/9.5/1.54**2\n",
    "cPro = bPro**2/5.9/1.54**2\n",
    "print('The number of carbon bonds per Kuhn length in polystyrene is:', '{:.0f}'.format(cSt))\n",
    "print('The number of carbon bonds per Kuhn length in polypropylene is:', '{:.0f}'.format(cPro))"
   ]
  },
  {
   "cell_type": "markdown",
   "metadata": {},
   "source": [
    "In general the greater the steric hinderence the greater the Kuhn length will be because it takes longer for the chain to fold back on itself in a random walk sort of fashion. This is because there is a lower probability of the gauche conformer so the probility distribution is more skewed away from a true random walk"
   ]
  },
  {
   "cell_type": "markdown",
   "metadata": {},
   "source": [
    "#### Problem 2\n",
    "This was particularly useful for this problem: https://boulderschool.yale.edu/sites/default/files/files/Polymer_Physics_Lectures2&3_Rubinstein.pdf\n",
    "We can take the same approach that Flory does in 3 dimensions, but reduce one of the dimesions in the osmotic pressure free energy term because the energy is supplied by the equal and oposite force from the walls. The energy that it takes to straighten the chain remains the same. This means that our free energy terms become:\n",
    "$$A_{os} = k_BTV_{ex} \\cdot \\frac{N}{hR^2}$$\n",
    "$$A_{st} \\approx k_B T \\frac{R^2}{Nb^2}$$\n",
    "$$A_{tot} \\approx k_BT(\\frac{V_{ex}N^2}{hR^2}+\\frac{R^2}{Nb^2})$$\n",
    "\n",
    "$$\\frac{\\partial A_{tot}}{\\partial R} = 0 \\approx k_B T(\\frac{-2V_{ex}N^2}{hR^3} + \\frac{2R}{Nb^2})$$\n",
    "\n",
    "$$R^4 \\; \\alpha \\; \\frac{V_{ex}N^3b^2}{h}$$\n",
    "$$R \\; \\alpha \\; V_{ex}^{1/4}N^{3/4}b^{1/2}h^{-1/4}$$"
   ]
  },
  {
   "cell_type": "markdown",
   "metadata": {},
   "source": [
    "#### Problem 3\n",
    "The book shows a nice version of the probability distribution for the end to end length in the differential shell dh:\n",
    "$$P(N,h) = 4 \\pi h^2 [\\frac{3}{2 \\pi N b^2}]^{3/2} \\cdot exp[\\frac{-3|h|^2}{2Nb^2}]dh$$\n",
    "Now we can take the derivative and set it equal to 0. I used Mathematica for this and found that the most probable length is:\n",
    "$$h = b \\sqrt{\\frac{2N}{3}}$$\n",
    "We also know that this distribution is an example of the Maxwell-Boltzmann distribution which is a particular type of the Chi-squared distribution so we can look up the PDF, CDF and Mean values online. We see that the Maxwell-Boltzmann distribution is related to the parameter $a$ which is defined as:\n",
    "$$a = \\sqrt{\\frac{kT}{m}}$$\n",
    "And we know that for this distribution we can plug in the analogous:\n",
    "$$a = \\sqrt{\\frac{Nb^2}{3}}$$\n",
    "Now we can plug this into the function for the mean of the Maxwell-Boltzmann distribution:\n",
    "$$\\mu = 2a \\sqrt{\\frac{2}{\\pi}} = 2 \\cdot \\sqrt{\\frac{2Nb^2}{3 \\pi}}$$\n",
    "The book has a nice derivation of the root mean squared R which is to integrate the probability function from 0 to infinity:\n",
    "$$\\int_0^{\\infty} 4 \\pi h^2 [\\frac{3}{2 \\pi N b^2}]^{3/2} \\cdot exp[\\frac{-3|h|^2}{2Nb^2}]dh$$\n",
    "$$\\int_0^{\\infty} x^4 exp(-kx^2)dx = \\frac{3}{8k^2} \\sqrt{\\frac{\\pi}{k}}$$\n",
    "Thus:\n",
    "$$h^2 = \\int_0^{\\infty} 4 \\pi h^2 [\\frac{3}{2 \\pi N b^2}]^{3/2} \\cdot exp[\\frac{-3|h|^2}{2Nb^2}]dh = Nb^2$$\n",
    "$$<R^2>^{1/2} = b \\sqrt{N}$$\n",
    "Below we have plotted the distribution for N = 100, because b was not specified we chose to use b = 5 and the three quantities we have derived above are drawn on as well."
   ]
  },
  {
   "cell_type": "code",
   "execution_count": 29,
   "metadata": {},
   "outputs": [],
   "source": [
    "def P(N,b,h):\n",
    "    return(4*math.pi*h**2 * (3/(2*math.pi*N*b**2))**(3/2) * np.exp(-3*h**2/(2*N*b**2)))"
   ]
  },
  {
   "cell_type": "code",
   "execution_count": 30,
   "metadata": {},
   "outputs": [],
   "source": [
    "from matplotlib import pyplot as plt"
   ]
  },
  {
   "cell_type": "code",
   "execution_count": 42,
   "metadata": {},
   "outputs": [
    {
     "data": {
      "image/png": "[encoded data removed]",
      "text/plain": [
       "<Figure size 432x288 with 1 Axes>"
      ]
     },
     "metadata": {
      "needs_background": "light"
     },
     "output_type": "display_data"
    }
   ],
   "source": [
    "h = np.linspace(0,150,1501)\n",
    "probs = P(100,5,h)\n",
    "plt.plot(h, probs)\n",
    "plt.axvline(5*math.sqrt(2*100/3), color = 'g') #most probable line\n",
    "plt.axvline(2 * math.sqrt(2*100*5**2/3/math.pi), color = 'r') #Mean line\n",
    "plt.axvline(50, color = 'y') #root mean squared line\n",
    "plt.xlabel('h')\n",
    "plt.ylabel('Probability')\n",
    "plt.legend(['pdf', 'most probable', 'mean', 'root mean squared'])\n",
    "plt.show()"
   ]
  },
  {
   "cell_type": "markdown",
   "metadata": {},
   "source": [
    "Our graphic makes good sense because we can see from the distribution that there is a heavy tail thus we expect the mean and root mean squared to be greater than the most probable line. We can see that the most probable line goes directly through the peak where the derivative of the PDF is equal to 0."
   ]
  },
  {
   "cell_type": "markdown",
   "metadata": {},
   "source": [
    "#### Problem 4\n",
    "For short stretching we know that:\n",
    "$$F = \\frac{-3k_BT}{Nb^2} \\vec{R}$$\n",
    "which means that if we plug in $2Nb$ for $\\vec{R}$ we get:\n",
    "$$F = \\frac{-6k_BT}{b}$$\n",
    "This lecture from UMass does a nice job of showing the derivation of how the Gaussian stretching is recovered from the more accurate form of stretching shown in part B. http://people.umass.edu/bvs/Poly.pdf\n",
    "The variables used are different but easily understood. The UMass example subsums $-3k_B$ term we found in class into a single variable, and then uses the fact that there is a temperature independent relationship between the number of monomers and a Kuhn step to derive the form $f = -\\frac{Tl}{aL}$ which using the notation from class is $f = -\\frac{-T \\vec{R}}{a R_{max}}$ The formula for longer stretching is then developed to:\n",
    "$$l = -\\frac{NT}{f} + aN \\cdot coth(\\frac{fa}{T})$$\n",
    "Using the in class notation this is:\n",
    "$$\\vec{R} = -\\frac{NT}{f} + aN \\cdot coth(\\frac{fa}{T})$$\n",
    "Where our b term has be subsumed into a. This notation of being easy to manipulate with a change of variable such that $x = \\frac{l}{L}$ and $y = \\frac{fa}{T}$ which gives us:\n",
    "$$x = -\\frac{1}{y}+coth(y)$$\n",
    "This means for a small stretch we are assuming $x = \\frac{\\vec{R}}{R_{max}}<<1$ and $y << 1$ which means we can plot the improved function and see how close to the Gaussian we are. One easy way to measure how close this approximation is to see how close to a linear function it is because for our entropic spring we expect a linear relationship."
   ]
  },
  {
   "cell_type": "code",
   "execution_count": 47,
   "metadata": {},
   "outputs": [],
   "source": [
    "import statsmodels.api as sm"
   ]
  },
  {
   "cell_type": "code",
   "execution_count": 51,
   "metadata": {},
   "outputs": [],
   "source": [
    "def improve(y):\n",
    "    return(-1/y + np.cosh(y)/np.sinh(y))"
   ]
  },
  {
   "cell_type": "code",
   "execution_count": 116,
   "metadata": {},
   "outputs": [
    {
     "name": "stdout",
     "output_type": "stream",
     "text": [
      "                            OLS Regression Results                            \n",
      "==============================================================================\n",
      "Dep. Variable:                      y   R-squared:                       1.000\n",
      "Model:                            OLS   Adj. R-squared:                  1.000\n",
      "Method:                 Least Squares   F-statistic:                 1.404e+09\n",
      "Date:                Mon, 01 Feb 2021   Prob (F-statistic):               0.00\n",
      "Time:                        12:12:23   Log-Likelihood:                 1146.4\n",
      "No. Observations:                 100   AIC:                            -2289.\n",
      "Df Residuals:                      98   BIC:                            -2284.\n",
      "Df Model:                           1                                         \n",
      "Covariance Type:            nonrobust                                         \n",
      "==============================================================================\n",
      "                 coef    std err          t      P>|t|      [0.025      0.975]\n",
      "------------------------------------------------------------------------------\n",
      "const       4.597e-06   5.17e-07      8.890      0.000    3.57e-06    5.62e-06\n",
      "x1             0.3331   8.89e-06   3.75e+04      0.000       0.333       0.333\n",
      "==============================================================================\n",
      "Omnibus:                       10.386   Durbin-Watson:                   0.006\n",
      "Prob(Omnibus):                  0.006   Jarque-Bera (JB):                9.186\n",
      "Skew:                          -0.660   Prob(JB):                       0.0101\n",
      "Kurtosis:                       2.319   Cond. No.                         34.7\n",
      "==============================================================================\n",
      "\n",
      "Notes:\n",
      "[1] Standard Errors assume that the covariance matrix of the errors is correctly specified.\n"
     ]
    }
   ],
   "source": [
    "y = np.linspace(0.001,0.1,100)\n",
    "x = improve(y)\n",
    "y = sm.add_constant(y)\n",
    "model = sm.OLS(x,y)\n",
    "results = model.fit()\n",
    "print(results.summary())"
   ]
  },
  {
   "cell_type": "markdown",
   "metadata": {},
   "source": [
    "So the good news is that we have a nearly perfect linear relationship as we can see in R-squared value and the intercept is machine 0 as expected when $\\vec{R} = 0 \\rightarrow f = 0$ Now we can compare the R-squared value for when we push y out to large values as in part A. "
   ]
  },
  {
   "cell_type": "code",
   "execution_count": 119,
   "metadata": {},
   "outputs": [
    {
     "name": "stdout",
     "output_type": "stream",
     "text": [
      "0.7684220033132905\n"
     ]
    }
   ],
   "source": [
    "y = np.linspace(0.1,10.1,100)\n",
    "x = improve(y)\n",
    "y = sm.add_constant(y)\n",
    "model = sm.OLS(x,y)\n",
    "results = model.fit()\n",
    "print(results.rsquared)"
   ]
  },
  {
   "cell_type": "markdown",
   "metadata": {},
   "source": [
    "When y is small then we can see that our linear approximation is quite good, but by the time we get to a large y we see a problem where this curve is clearly no longer linear."
   ]
  },
  {
   "cell_type": "code",
   "execution_count": 188,
   "metadata": {},
   "outputs": [
    {
     "data": {
      "image/png": "[encoded data removed]",
      "text/plain": [
       "<Figure size 432x288 with 1 Axes>"
      ]
     },
     "metadata": {
      "needs_background": "light"
     },
     "output_type": "display_data"
    }
   ],
   "source": [
    "y = np.linspace(0.01,2,1000)\n",
    "x1 = y/3\n",
    "x2 = np.cosh(y)/np.sinh(y)-1/y\n",
    "plt.plot(x1,y)\n",
    "plt.plot(x2,y)\n",
    "plt.axvline(0.441, color = 'g')\n",
    "plt.legend(['gaussian', 'improved', '10% difference'])\n",
    "plt.xlabel('R/Nb')\n",
    "plt.ylabel('fb/kT')\n",
    "plt.show()"
   ]
  },
  {
   "cell_type": "code",
   "execution_count": 186,
   "metadata": {},
   "outputs": [
    {
     "name": "stdout",
     "output_type": "stream",
     "text": [
      "We see 10% difference at 0.441 R/Nb length\n"
     ]
    }
   ],
   "source": [
    "for i in range(len(x1)):\n",
    "    if(abs(x2[i]-x1[i])/x1[i] > 0.1): #measure the relative distance between them\n",
    "        print('We see 10% difference at', '{:.3f}'.format(x1[i]), 'R/Nb length')\n",
    "        break"
   ]
  },
  {
   "cell_type": "code",
   "execution_count": null,
   "metadata": {},
   "outputs": [],
   "source": []
  }
 ],
 "metadata": {
  "kernelspec": {
   "display_name": "Python 3",
   "language": "python",
   "name": "python3"
  },
  "language_info": {
   "codemirror_mode": {
    "name": "ipython",
    "version": 3
   },
   "file_extension": ".py",
   "mimetype": "text/x-python",
   "name": "python",
   "nbconvert_exporter": "python",
   "pygments_lexer": "ipython3",
   "version": "3.8.5"
  }
 },
 "nbformat": 4,
 "nbformat_minor": 4
}
